{
 "cells": [
  {
   "cell_type": "code",
   "execution_count": 10,
   "metadata": {},
   "outputs": [
    {
     "name": "stdout",
     "output_type": "stream",
     "text": [
      "Weights after Training:\n",
      "[[ 16.02425153]\n",
      " [-32.14447143]]\n",
      "Outputs:\n",
      "[[9.96821570e-01]\n",
      " [9.98933176e-01]\n",
      " [9.91309685e-01]\n",
      " [9.99880620e-01]\n",
      " [9.90168009e-01]\n",
      " [9.98157227e-01]\n",
      " [9.98198180e-01]\n",
      " [9.87411994e-01]\n",
      " [9.97596452e-01]\n",
      " [9.96999934e-01]\n",
      " [3.91952382e-06]\n",
      " [1.23440082e-05]\n",
      " [1.86439058e-02]\n",
      " [1.67691709e-06]\n",
      " [7.02145745e-04]\n",
      " [1.08083980e-04]\n",
      " [1.91153731e-04]\n",
      " [2.38378926e-04]\n",
      " [7.27159169e-06]\n",
      " [4.36416784e-04]]\n"
     ]
    },
    {
     "data": {
      "image/png": "[encoded data removed]",
      "text/plain": [
       "<Figure size 432x288 with 1 Axes>"
      ]
     },
     "metadata": {
      "needs_background": "light"
     },
     "output_type": "display_data"
    }
   ],
   "source": [
    "import numpy as np\n",
    "import matplotlib.pyplot as plt\n",
    "b_color=[0.840155945,0.838206628,0.803118908,0.964912281,0.863547758,0.840155945,0.929824561,0.847953216,0.859649123,0.85380117]\n",
    "b_color1=[0.937621832,0.916179337,0.931773879,0.906432749,0.910331384,0.760233918,0.851851852,0.923976608,0.884990253,0.894736842,1]\n",
    "b_ratio=[0.24,0.205,0.253,0.2,0.287,0.223,0.267,0.287,0.241,0.245]\n",
    "b_ratio1=[0.251,0.337,0.242,0.342,0.222,0.242,0.249,0.285,0.239,0.216,0.342]\n",
    "m_color=[0.779727096,0.801169591,0.779727096,0.877192982,0.750487329,0.904483431,0.71539961,0.79337232,0.764132554,0.736842105]\n",
    "m_color1=[0.764132554,0.789473684,0.719298246,0.838206628,0.803118908,0.768031189,0.785575049,0.807017544,0.729044834,0.83625731,0.884990253]\n",
    "m_ratio=[0.776,0.751,0.512,0.851,0.6,0.735,0.623,0.655,0.749,0.608]\n",
    "m_ratio1=[0.662,0.756,0.696,0.754,0.798,0.751,0.549,0.675,0.534,0.667,0.577]\n",
    "o_color=[0.485380117,0.493177388,0.504873294,0.635477583,0.489278752,0.633528265,0.516569201,0.518518519,0.450292398,0.524366472]\n",
    "o_color1=[0.461988304,0.43079922,0.49122807,0.549707602,0.547758285,0.485380117,0.493177388,0.520467836,0.485380117,0.454191033,0.604288499]\n",
    "o_ratio=[0.942,0.962,0.986,0.984,0.984,0.956,0.953,0.977,0.885,0.87]\n",
    "o_ratio1=[0.991,0.962,0.968,0.927,0.897,0.966,0.966,0.911,0.911,0.993,0.94]\n",
    "\n",
    "\n",
    "np.random.seed(1)\n",
    "\n",
    "N = 20\n",
    "x = np.linspace(-1, 1, N)\n",
    "weights = 2 * np.random.random((2, 1)) - 1\n",
    "\n",
    "training_inputs= np.array([[b_color[0],b_ratio[0]],\n",
    "                            [b_color[1],b_ratio[1]],\n",
    "                            [b_color[2],b_ratio[2]],\n",
    "                            [b_color[3],b_ratio[3]],\n",
    "                            [b_color[4],b_ratio[4]],\n",
    "                            [b_color[5],b_ratio[5]],\n",
    "                            [b_color[6],b_ratio[6]],\n",
    "                            [b_color[7],b_ratio[7]],\n",
    "                            [b_color[8],b_ratio[8]],\n",
    "                            [b_color[9],b_ratio[9]],\n",
    "                            [m_color[0],m_ratio[0]],\n",
    "                            [m_color[1],m_ratio[1]],\n",
    "                            [m_color[2],m_ratio[2]],\n",
    "                            [m_color[3],m_ratio[3]],\n",
    "                            [m_color[4],m_ratio[4]],\n",
    "                            [m_color[5],m_ratio[5]],\n",
    "                            [m_color[6],m_ratio[6]],\n",
    "                            [m_color[7],m_ratio[7]],\n",
    "                            [m_color[8],m_ratio[8]],\n",
    "                            [m_color[9],m_ratio[9]]\n",
    "                            ])\n",
    "\n",
    "\n",
    "\n",
    "training_outputs= np.array([[1,1,1,1,1,1,1,1,1,1,0,0,0,0,0,0,0,0,0,0]]).T\n",
    "#Training weights \n",
    "def sigmoid(a):\n",
    "    #Takes in weighted sum of the inputs and normalizes\n",
    "    #them through between 0 and 1 through a sigmoid function(activation function)\n",
    "    return 1 / (1 + np.exp(-a))\n",
    "\n",
    "def sigmoid_derivative(a):\n",
    "    #The derivative of the sigmoid function\n",
    "    return a * (1 - a)\n",
    "\n",
    "\n",
    "for iteration in range(50000):\n",
    "    #Pass training set through the neural network\n",
    "    inputs = training_inputs\n",
    "    outputs = sigmoid(np.dot(inputs,weights))\n",
    "    # Calculate the error rate\n",
    "    error = training_outputs - outputs\n",
    "    # Multiply error by input and derivative of the sigmoid function\n",
    "    adjustments = error * sigmoid_derivative(outputs)\n",
    "    # Adjust \n",
    "    weights += np.dot(inputs.T,adjustments)\n",
    "print('Weights after Training:')\n",
    "print(weights)\n",
    "print('Outputs:')\n",
    "print(outputs)       \n",
    " \n",
    "\n",
    "plt.figure()\n",
    "plt.scatter(x,training_outputs, label ='training set')\n",
    "plt.plot(x,outputs, c ='orange', label = 'fit')\n",
    "plt.legend(loc = 'lower left')\n",
    "plt.show()\n"
   ]
  },
  {
   "cell_type": "code",
   "execution_count": null,
   "metadata": {},
   "outputs": [],
   "source": []
  }
 ],
 "metadata": {
  "kernelspec": {
   "display_name": "Python 3 (ipykernel)",
   "language": "python",
   "name": "python3"
  },
  "language_info": {
   "codemirror_mode": {
    "name": "ipython",
    "version": 3
   },
   "file_extension": ".py",
   "mimetype": "text/x-python",
   "name": "python",
   "nbconvert_exporter": "python",
   "pygments_lexer": "ipython3",
   "version": "3.9.12"
  }
 },
 "nbformat": 4,
 "nbformat_minor": 2
}
